{
 "cells": [
  {
   "cell_type": "code",
   "execution_count": 2,
   "metadata": {},
   "outputs": [],
   "source": [
    "import pandas as pd\n",
    "import configparser\n",
    "import boto3\n",
    "\n",
    "# Load AWS credentials from the configuration file\n",
    "config = configparser.ConfigParser()\n",
    "config.read('aws.cfg')\n",
    "\n",
    "aws_access_key = config['AWS']['aws_access_key_id']\n",
    "aws_secret_key = config['AWS']['aws_secret_access_key']\n",
    "location = config['AWS']['region_name']\n",
    "\n",
    "# Initialize the S3 client\n",
    "s3 = boto3.client(\n",
    "    's3',\n",
    "    aws_access_key_id=aws_access_key,\n",
    "    aws_secret_access_key=aws_secret_key\n",
    ")\n",
    "\n",
    "# Verify the client is set up correctly by listing buckets\n",
    "# response = s3.list_buckets()\n",
    "# print('Existing buckets:')\n",
    "# for bucket in response['Buckets']:\n",
    "#     print(f'  {bucket[\"Name\"]}')"
   ]
  },
  {
   "cell_type": "code",
   "execution_count": 3,
   "metadata": {},
   "outputs": [
    {
     "name": "stdout",
     "output_type": "stream",
     "text": [
      "File resources/sentiment/product.csv downloaded from bucket techcatalyst-public to /workspaces/boto3_lab/AI API/product.csv.\n",
      "File resources/sentiment/product.csv downloaded from bucket techcatalyst-public to /workspaces/boto3_lab/AI API/review.csv.\n"
     ]
    }
   ],
   "source": [
    "# Define the file to download and the target local path\n",
    "bucket_name = 'techcatalyst-public'\n",
    "\n",
    "key1 = 'resources/sentiment/product.csv'\n",
    "filename1 = '/workspaces/boto3_lab/AI API/product.csv'\n",
    "\n",
    "key2 = 'resources/sentiment/product.csv'\n",
    "filename2 = '/workspaces/boto3_lab/AI API/review.csv'\n",
    "\n",
    "# Download the file from S3\n",
    "\n",
    "s3.download_file(Bucket=bucket_name, Key=key1, Filename=filename1)\n",
    "s3.download_file(Bucket=bucket_name, Key=key2, Filename=filename2)\n",
    "\n",
    "# Print a confirmation message\n",
    "print(f'File {key1} downloaded from bucket {bucket_name} to {filename1}.')\n",
    "print(f'File {key2} downloaded from bucket {bucket_name} to {filename2}.')"
   ]
  },
  {
   "cell_type": "code",
   "execution_count": 4,
   "metadata": {},
   "outputs": [],
   "source": [
    "\n",
    "import awswrangler as wr\n",
    "\n",
    "boto3.setup_default_session(\n",
    "    aws_access_key_id=config['AWS']['aws_access_key_id'],\n",
    "    aws_secret_access_key=config['AWS']['aws_secret_access_key'],\n",
    "    region_name=config['AWS']['region_name']\n",
    ")\n",
    "\n",
    "try:\n",
    "    df1 = wr.s3.read_csv('s3://techcatalyst-public/resources/sentiment/product.csv') \n",
    "except Exception as e:\n",
    "    print('error')\n",
    "    print(e)\n",
    "\n",
    "\n",
    "try:\n",
    "    df2 = wr.s3.read_csv('s3://techcatalyst-public/resources/sentiment/review.csv') \n",
    "except Exception as e:\n",
    "    print('error')\n",
    "    print(e)"
   ]
  },
  {
   "cell_type": "code",
   "execution_count": 5,
   "metadata": {},
   "outputs": [
    {
     "name": "stdout",
     "output_type": "stream",
     "text": [
      "<class 'pandas.core.frame.DataFrame'>\n",
      "RangeIndex: 20 entries, 0 to 19\n",
      "Data columns (total 3 columns):\n",
      " #   Column               Non-Null Count  Dtype \n",
      "---  ------               --------------  ----- \n",
      " 0   PRODUCT ID           20 non-null     int64 \n",
      " 1   PRODUCT DESCRIPTION  20 non-null     object\n",
      " 2   REVIEW ID            20 non-null     object\n",
      "dtypes: int64(1), object(2)\n",
      "memory usage: 608.0+ bytes\n"
     ]
    }
   ],
   "source": [
    "df1.info()"
   ]
  },
  {
   "cell_type": "code",
   "execution_count": 6,
   "metadata": {},
   "outputs": [
    {
     "name": "stdout",
     "output_type": "stream",
     "text": [
      "<class 'pandas.core.frame.DataFrame'>\n",
      "RangeIndex: 20 entries, 0 to 19\n",
      "Data columns (total 2 columns):\n",
      " #   Column       Non-Null Count  Dtype \n",
      "---  ------       --------------  ----- \n",
      " 0   REVIEW ID    20 non-null     object\n",
      " 1   REVIEW TEXT  20 non-null     object\n",
      "dtypes: object(2)\n",
      "memory usage: 448.0+ bytes\n"
     ]
    }
   ],
   "source": [
    "df2.info()"
   ]
  },
  {
   "cell_type": "code",
   "execution_count": 7,
   "metadata": {},
   "outputs": [
    {
     "name": "stdout",
     "output_type": "stream",
     "text": [
      "<class 'pandas.core.frame.DataFrame'>\n",
      "RangeIndex: 20 entries, 0 to 19\n",
      "Data columns (total 4 columns):\n",
      " #   Column               Non-Null Count  Dtype \n",
      "---  ------               --------------  ----- \n",
      " 0   PRODUCT ID           20 non-null     int64 \n",
      " 1   PRODUCT DESCRIPTION  20 non-null     object\n",
      " 2   REVIEW ID            20 non-null     object\n",
      " 3   REVIEW TEXT          20 non-null     object\n",
      "dtypes: int64(1), object(3)\n",
      "memory usage: 768.0+ bytes\n"
     ]
    }
   ],
   "source": [
    "combined_df = pd.merge(df1, df2, on='REVIEW ID', how='inner')\n",
    "combined_df.info()\n",
    "\n"
   ]
  },
  {
   "cell_type": "code",
   "execution_count": 8,
   "metadata": {},
   "outputs": [
    {
     "data": {
      "text/html": [
       "<div>\n",
       "<style scoped>\n",
       "    .dataframe tbody tr th:only-of-type {\n",
       "        vertical-align: middle;\n",
       "    }\n",
       "\n",
       "    .dataframe tbody tr th {\n",
       "        vertical-align: top;\n",
       "    }\n",
       "\n",
       "    .dataframe thead th {\n",
       "        text-align: right;\n",
       "    }\n",
       "</style>\n",
       "<table border=\"1\" class=\"dataframe\">\n",
       "  <thead>\n",
       "    <tr style=\"text-align: right;\">\n",
       "      <th></th>\n",
       "      <th>PRODUCT ID</th>\n",
       "      <th>PRODUCT DESCRIPTION</th>\n",
       "      <th>REVIEW ID</th>\n",
       "      <th>REVIEW TEXT</th>\n",
       "      <th>SENTIMENT</th>\n",
       "    </tr>\n",
       "  </thead>\n",
       "  <tbody>\n",
       "    <tr>\n",
       "      <th>0</th>\n",
       "      <td>1</td>\n",
       "      <td>High-quality smartphone with excellent camera.</td>\n",
       "      <td>R1</td>\n",
       "      <td>Great camera quality, but battery life could b...</td>\n",
       "      <td>MIXED</td>\n",
       "    </tr>\n",
       "    <tr>\n",
       "      <th>1</th>\n",
       "      <td>1</td>\n",
       "      <td>High-quality smartphone with excellent camera.</td>\n",
       "      <td>R2</td>\n",
       "      <td>Very satisfied with this smartphone. Worth eve...</td>\n",
       "      <td>POSITIVE</td>\n",
       "    </tr>\n",
       "    <tr>\n",
       "      <th>2</th>\n",
       "      <td>2</td>\n",
       "      <td>Durable laptop with long battery life.</td>\n",
       "      <td>R3</td>\n",
       "      <td>Excellent performance and battery life. Highly...</td>\n",
       "      <td>POSITIVE</td>\n",
       "    </tr>\n",
       "    <tr>\n",
       "      <th>3</th>\n",
       "      <td>2</td>\n",
       "      <td>Durable laptop with long battery life.</td>\n",
       "      <td>R4</td>\n",
       "      <td>Disappointed with the build quality. Feels cheap.</td>\n",
       "      <td>NEGATIVE</td>\n",
       "    </tr>\n",
       "    <tr>\n",
       "      <th>4</th>\n",
       "      <td>3</td>\n",
       "      <td>Wireless noise-canceling headphones.</td>\n",
       "      <td>R5</td>\n",
       "      <td>Fantastic noise cancellation and sound quality.</td>\n",
       "      <td>POSITIVE</td>\n",
       "    </tr>\n",
       "  </tbody>\n",
       "</table>\n",
       "</div>"
      ],
      "text/plain": [
       "   PRODUCT ID                             PRODUCT DESCRIPTION REVIEW ID  \\\n",
       "0           1  High-quality smartphone with excellent camera.        R1   \n",
       "1           1  High-quality smartphone with excellent camera.        R2   \n",
       "2           2          Durable laptop with long battery life.        R3   \n",
       "3           2          Durable laptop with long battery life.        R4   \n",
       "4           3            Wireless noise-canceling headphones.        R5   \n",
       "\n",
       "                                         REVIEW TEXT SENTIMENT  \n",
       "0  Great camera quality, but battery life could b...     MIXED  \n",
       "1  Very satisfied with this smartphone. Worth eve...  POSITIVE  \n",
       "2  Excellent performance and battery life. Highly...  POSITIVE  \n",
       "3  Disappointed with the build quality. Feels cheap.  NEGATIVE  \n",
       "4    Fantastic noise cancellation and sound quality.  POSITIVE  "
      ]
     },
     "execution_count": 8,
     "metadata": {},
     "output_type": "execute_result"
    }
   ],
   "source": [
    "comprehend = boto3.client('comprehend', region_name=location)\n",
    "\n",
    "def get_sentiment(text):\n",
    "    response = comprehend.detect_sentiment(Text=text, LanguageCode='en')\n",
    "    return response['Sentiment']\n",
    "\n",
    "combined_df['SENTIMENT'] = combined_df['REVIEW TEXT'].apply(get_sentiment)\n",
    "combined_df.head(5)"
   ]
  },
  {
   "cell_type": "markdown",
   "metadata": {},
   "source": [
    "**Bar Graph**"
   ]
  },
  {
   "cell_type": "code",
   "execution_count": 21,
   "metadata": {},
   "outputs": [
    {
     "name": "stdout",
     "output_type": "stream",
     "text": [
      "Requirement already satisfied: matplotlib in /home/codespace/.local/lib/python3.10/site-packages (3.9.1)\n",
      "Requirement already satisfied: contourpy>=1.0.1 in /home/codespace/.local/lib/python3.10/site-packages (from matplotlib) (1.2.1)\n",
      "Requirement already satisfied: cycler>=0.10 in /home/codespace/.local/lib/python3.10/site-packages (from matplotlib) (0.12.1)\n",
      "Requirement already satisfied: fonttools>=4.22.0 in /home/codespace/.local/lib/python3.10/site-packages (from matplotlib) (4.53.1)\n",
      "Requirement already satisfied: kiwisolver>=1.3.1 in /home/codespace/.local/lib/python3.10/site-packages (from matplotlib) (1.4.5)\n",
      "Requirement already satisfied: numpy>=1.23 in /usr/local/python/3.10.13/lib/python3.10/site-packages (from matplotlib) (2.0.1)\n",
      "Requirement already satisfied: packaging>=20.0 in /home/codespace/.local/lib/python3.10/site-packages (from matplotlib) (24.1)\n",
      "Requirement already satisfied: pillow>=8 in /home/codespace/.local/lib/python3.10/site-packages (from matplotlib) (10.4.0)\n",
      "Requirement already satisfied: pyparsing>=2.3.1 in /home/codespace/.local/lib/python3.10/site-packages (from matplotlib) (3.1.2)\n",
      "Requirement already satisfied: python-dateutil>=2.7 in /home/codespace/.local/lib/python3.10/site-packages (from matplotlib) (2.9.0.post0)\n",
      "Requirement already satisfied: six>=1.5 in /home/codespace/.local/lib/python3.10/site-packages (from python-dateutil>=2.7->matplotlib) (1.16.0)\n"
     ]
    }
   ],
   "source": [
    "!pip install matplotlib"
   ]
  },
  {
   "cell_type": "code",
   "execution_count": 9,
   "metadata": {},
   "outputs": [
    {
     "data": {
      "image/png": "[encoded data removed]",
      "text/plain": [
       "<Figure size 1000x600 with 1 Axes>"
      ]
     },
     "metadata": {},
     "output_type": "display_data"
    }
   ],
   "source": [
    "import matplotlib.pyplot as plt\n",
    "\n",
    "sentiment_counts = combined_df['SENTIMENT'].value_counts()\n",
    "\n",
    "plt.figure(figsize=(10, 6))\n",
    "sentiment_counts.plot(kind='bar')\n",
    "plt.title('Sentiment Analysis Counts')\n",
    "plt.xlabel('Sentiment')\n",
    "plt.ylabel('Count')\n",
    "plt.show()"
   ]
  },
  {
   "cell_type": "markdown",
   "metadata": {},
   "source": [
    "**Saving dataset to s3**"
   ]
  },
  {
   "cell_type": "code",
   "execution_count": 10,
   "metadata": {},
   "outputs": [],
   "source": [
    "combined_df.to_csv('product_sentiment.csv', index=False)"
   ]
  },
  {
   "cell_type": "code",
   "execution_count": 11,
   "metadata": {},
   "outputs": [
    {
     "name": "stdout",
     "output_type": "stream",
     "text": [
      "File /workspaces/boto3_lab/AI API/product_sentiment.csv uploaded to bucket techcatalyst-public with key aryan/product_sentiment.csv.\n"
     ]
    }
   ],
   "source": [
    "# Define the file to upload and the target bucket and key\n",
    "filename = '/workspaces/boto3_lab/AI API/product_sentiment.csv'  # Replace with your file path\n",
    "bucket_name = 'techcatalyst-public'  # Replace with your bucket name\n",
    "key = 'aryan/product_sentiment.csv'  # Replace with your file key in S3\n",
    "\n",
    "# Upload the file to S3\n",
    "s3.upload_file(filename, bucket_name, key)\n",
    "\n",
    "# Print a confirmation message\n",
    "print(f'File {filename} uploaded to bucket {bucket_name} with key {key}.')"
   ]
  },
  {
   "cell_type": "markdown",
   "metadata": {},
   "source": [
    "## License Plate State Identification"
   ]
  },
  {
   "cell_type": "code",
   "execution_count": 26,
   "metadata": {},
   "outputs": [
    {
     "name": "stdout",
     "output_type": "stream",
     "text": [
      "[{'resources/license-plates/'}, {'resources/license-plates/license_plate10.jpeg'}, {'resources/license-plates/license_plate11.png'}, {'resources/license-plates/license_plate12.jpeg'}, {'resources/license-plates/license_plate13.jpeg'}, {'resources/license-plates/license_plate3.png'}, {'resources/license-plates/license_plate4.jpeg'}, {'resources/license-plates/license_plate6.jpeg'}, {'resources/license-plates/license_plate7.jpg'}, {'resources/license-plates/license_plate8.png'}, {'resources/license-plates/license_plate9.jpeg'}, {'resources/license-plates/states.csv'}]\n"
     ]
    }
   ],
   "source": [
    "images = []\n",
    "bucket_name = 'techcatalyst-public'\n",
    "key = 'resources/license-plates/'\n",
    "response = s3.list_objects_v2(Bucket=bucket_name, Prefix=key)\n",
    "for b in response['Contents']:\n",
    "    images.append({b[\"Key\"]})\n",
    "print(images)"
   ]
  },
  {
   "cell_type": "code",
   "execution_count": 75,
   "metadata": {},
   "outputs": [
    {
     "name": "stdout",
     "output_type": "stream",
     "text": [
      "/workspaces/boto3_lab/AI API/\n",
      "/workspaces/boto3_lab/AI API/license_plate10.jpeg\n",
      "/workspaces/boto3_lab/AI API/license_plate11.png\n",
      "/workspaces/boto3_lab/AI API/license_plate12.jpeg\n",
      "/workspaces/boto3_lab/AI API/license_plate13.jpeg\n",
      "/workspaces/boto3_lab/AI API/license_plate3.png\n",
      "/workspaces/boto3_lab/AI API/license_plate4.jpeg\n",
      "/workspaces/boto3_lab/AI API/license_plate6.jpeg\n",
      "/workspaces/boto3_lab/AI API/license_plate7.jpg\n",
      "/workspaces/boto3_lab/AI API/license_plate8.png\n",
      "/workspaces/boto3_lab/AI API/license_plate9.jpeg\n",
      "/workspaces/boto3_lab/AI API/states.csv\n"
     ]
    }
   ],
   "source": [
    "import os\n",
    "# Define the file to download and the target local path\n",
    "bucket_name = 'techcatalyst-public'\n",
    "key = 'resources/license-plates/'\n",
    "\n",
    "response = s3.list_objects_v2(Bucket=bucket_name, Prefix=key)\n",
    "for b in response['Contents']:\n",
    "    filename = os.path.join('/workspaces/boto3_lab/AI API/', os.path.basename(b['Key']))\n",
    "    # print(b['Key'])\n",
    "    print(filename)\n"
   ]
  },
  {
   "cell_type": "code",
   "execution_count": 76,
   "metadata": {},
   "outputs": [
    {
     "name": "stdout",
     "output_type": "stream",
     "text": [
      "['ARIZONA', 'AL-A', 'PERM', 'ATE3415', '-', 'GRAND CANYON STATE', '-', 'ARIZONA', 'AL-A', 'PERM', 'ATE3415', '-', 'GRAND', 'CANYON', 'STATE', '-']\n",
      "['TEXAS', 'BBX', '0228', 'The Lone Star State', 'TEXAS', 'BBX', '0228', 'The', 'Lone', 'Star', 'State']\n",
      "['TEXAS', 'LQR', 'A216', 'The Lone Star State', '7824966890', 'RGVIVER.COM', 'TEXAS', 'LQR', 'A216', 'The', 'Lone', 'Star', 'State', '7824966890', 'RGVIVER.COM']\n",
      "['ALABAMA', 'ALABAMA DIXIE ALA', 'HEART', 'RC18351', 'OF', '13', 'MAR', 'GOD BLESS AMERICA', '43-128808', 'ALABAMA', 'ALABAMA', 'DIXIE', 'ALA', 'HEART', 'RC18351', 'OF', '13', 'MAR', 'GOD', 'BLESS', 'AMERICA', '43-128808']\n",
      "['FEB Massachusetts', 'Massachusetts', '11', '15', 'G2', 'The Spirit of America', 'FEB', 'Massachusetts', 'Massachusetts', '11', '15', 'G2', 'The', 'Spirit', 'of', 'America']\n",
      "['- -', '37 ! 342 roo', 'ZRZ', 'PENNSYLVANIA', 'DLC', '311', 'BOR.1NG', '001', 'visitPA.com', 'I', '1447702', '-', '-', '37 !', '342', 'roo', 'ZRZ', 'PENNSYLVANIA', 'DLC', '311', 'BOR.1NG', '001', 'visitPA.com', 'I', '1447702']\n",
      "['AUG', 'California', 'I 2012', 'E', 'F 2016438', '6TRJ244', 'dmv.ca.gov', 'AUG', 'California', 'I', '2012', 'E', 'F', '2016438', '6TRJ244', 'dmv.ca.gov']\n",
      "['NEVADA', '2', '4', '5', '6', '4', 'Home Means Nevada', 'NEVADA', '2', '4', '5', '6', '4', 'Home', 'Means', 'Nevada']\n",
      "['OHIO', 'BHL', 'BIRTHPLACE', '6276 OF AVIATION', 'OHIO', 'BHL', 'BIRTHPLACE', '6276', 'OF', 'AVIATION']\n",
      "['ALABAMA', '09 AL 23', '1AOWTAX SAOWTAK', 'www.alabama.travel', '- -', '-', 'ALABAMA', '09', 'AL', '23', '1AOWTAX', 'SAOWTAK', 'www.alabama.travel', '-', '-', '-']\n",
      "[['ARIZONA', 'AL-A', 'PERM', 'ATE3415', '-', 'GRAND CANYON STATE', '-', 'ARIZONA', 'AL-A', 'PERM', 'ATE3415', '-', 'GRAND', 'CANYON', 'STATE', '-'], ['TEXAS', 'BBX', '0228', 'The Lone Star State', 'TEXAS', 'BBX', '0228', 'The', 'Lone', 'Star', 'State'], ['TEXAS', 'LQR', 'A216', 'The Lone Star State', '7824966890', 'RGVIVER.COM', 'TEXAS', 'LQR', 'A216', 'The', 'Lone', 'Star', 'State', '7824966890', 'RGVIVER.COM'], ['ALABAMA', 'ALABAMA DIXIE ALA', 'HEART', 'RC18351', 'OF', '13', 'MAR', 'GOD BLESS AMERICA', '43-128808', 'ALABAMA', 'ALABAMA', 'DIXIE', 'ALA', 'HEART', 'RC18351', 'OF', '13', 'MAR', 'GOD', 'BLESS', 'AMERICA', '43-128808'], ['FEB Massachusetts', 'Massachusetts', '11', '15', 'G2', 'The Spirit of America', 'FEB', 'Massachusetts', 'Massachusetts', '11', '15', 'G2', 'The', 'Spirit', 'of', 'America'], ['- -', '37 ! 342 roo', 'ZRZ', 'PENNSYLVANIA', 'DLC', '311', 'BOR.1NG', '001', 'visitPA.com', 'I', '1447702', '-', '-', '37 !', '342', 'roo', 'ZRZ', 'PENNSYLVANIA', 'DLC', '311', 'BOR.1NG', '001', 'visitPA.com', 'I', '1447702'], ['AUG', 'California', 'I 2012', 'E', 'F 2016438', '6TRJ244', 'dmv.ca.gov', 'AUG', 'California', 'I', '2012', 'E', 'F', '2016438', '6TRJ244', 'dmv.ca.gov'], ['NEVADA', '2', '4', '5', '6', '4', 'Home Means Nevada', 'NEVADA', '2', '4', '5', '6', '4', 'Home', 'Means', 'Nevada'], ['OHIO', 'BHL', 'BIRTHPLACE', '6276 OF AVIATION', 'OHIO', 'BHL', 'BIRTHPLACE', '6276', 'OF', 'AVIATION'], ['ALABAMA', '09 AL 23', '1AOWTAX SAOWTAK', 'www.alabama.travel', '- -', '-', 'ALABAMA', '09', 'AL', '23', '1AOWTAX', 'SAOWTAK', 'www.alabama.travel', '-', '-', '-']]\n"
     ]
    }
   ],
   "source": [
    "bucket_name = 'techcatalyst-public'\n",
    "key = '/resources/license-plates/*'\n",
    "filename = '/workspaces/boto3_lab/AI API/license_plates'\n",
    "rekognition = boto3.client('rekognition')\n",
    "\n",
    "licenses = []\n",
    "for b in response['Contents']:\n",
    "    key = b['Key']\n",
    "    if key.endswith('.jpeg') or key.endswith('.png') or key.endswith('.jpg'):\n",
    "        response = rekognition.detect_text(Image={'S3Object':{'Bucket':bucket_name, 'Name': key}})\n",
    "        detected_texts = [text['DetectedText'] for text in response['TextDetections']]\n",
    "        print(detected_texts)\n",
    "        licenses.append(detected_texts)\n",
    "print(licenses)"
   ]
  },
  {
   "cell_type": "code",
   "execution_count": 77,
   "metadata": {},
   "outputs": [
    {
     "name": "stdout",
     "output_type": "stream",
     "text": [
      "[['ARIZONA', 'AL-A', 'PERM', 'ATE3415', '-', 'GRAND CANYON STATE', '-', 'ARIZONA', 'AL-A', 'PERM', 'ATE3415', '-', 'GRAND', 'CANYON', 'STATE', '-'], ['TEXAS', 'BBX', '0228', 'The Lone Star State', 'TEXAS', 'BBX', '0228', 'The', 'Lone', 'Star', 'State'], ['TEXAS', 'LQR', 'A216', 'The Lone Star State', '7824966890', 'RGVIVER.COM', 'TEXAS', 'LQR', 'A216', 'The', 'Lone', 'Star', 'State', '7824966890', 'RGVIVER.COM'], ['ALABAMA', 'ALABAMA DIXIE ALA', 'HEART', 'RC18351', 'OF', '13', 'MAR', 'GOD BLESS AMERICA', '43-128808', 'ALABAMA', 'ALABAMA', 'DIXIE', 'ALA', 'HEART', 'RC18351', 'OF', '13', 'MAR', 'GOD', 'BLESS', 'AMERICA', '43-128808'], ['FEB Massachusetts', 'Massachusetts', '11', '15', 'G2', 'The Spirit of America', 'FEB', 'Massachusetts', 'Massachusetts', '11', '15', 'G2', 'The', 'Spirit', 'of', 'America'], ['- -', '37 ! 342 roo', 'ZRZ', 'PENNSYLVANIA', 'DLC', '311', 'BOR.1NG', '001', 'visitPA.com', 'I', '1447702', '-', '-', '37 !', '342', 'roo', 'ZRZ', 'PENNSYLVANIA', 'DLC', '311', 'BOR.1NG', '001', 'visitPA.com', 'I', '1447702'], ['AUG', 'California', 'I 2012', 'E', 'F 2016438', '6TRJ244', 'dmv.ca.gov', 'AUG', 'California', 'I', '2012', 'E', 'F', '2016438', '6TRJ244', 'dmv.ca.gov'], ['NEVADA', '2', '4', '5', '6', '4', 'Home Means Nevada', 'NEVADA', '2', '4', '5', '6', '4', 'Home', 'Means', 'Nevada'], ['OHIO', 'BHL', 'BIRTHPLACE', '6276 OF AVIATION', 'OHIO', 'BHL', 'BIRTHPLACE', '6276', 'OF', 'AVIATION'], ['ALABAMA', '09 AL 23', '1AOWTAX SAOWTAK', 'www.alabama.travel', '- -', '-', 'ALABAMA', '09', 'AL', '23', '1AOWTAX', 'SAOWTAK', 'www.alabama.travel', '-', '-', '-']]\n"
     ]
    }
   ],
   "source": [
    "print(licenses)"
   ]
  },
  {
   "cell_type": "code",
   "execution_count": 89,
   "metadata": {},
   "outputs": [
    {
     "name": "stdout",
     "output_type": "stream",
     "text": [
      "Sublist ['ARIZONA', 'AL-A', 'PERM', 'ATE3415', '-', 'GRAND CANYON STATE', '-', 'ARIZONA', 'AL-A', 'PERM', 'ATE3415', '-', 'GRAND', 'CANYON', 'STATE', '-'] contains ARIZONA\n",
      "Sublist ['TEXAS', 'BBX', '0228', 'THE LONE STAR STATE', 'TEXAS', 'BBX', '0228', 'THE', 'LONE', 'STAR', 'STATE'] contains TEXAS\n",
      "Sublist ['TEXAS', 'LQR', 'A216', 'THE LONE STAR STATE', '7824966890', 'RGVIVER.COM', 'TEXAS', 'LQR', 'A216', 'THE', 'LONE', 'STAR', 'STATE', '7824966890', 'RGVIVER.COM'] contains TEXAS\n",
      "Sublist ['ALABAMA', 'ALABAMA DIXIE ALA', 'HEART', 'RC18351', 'OF', '13', 'MAR', 'GOD BLESS AMERICA', '43-128808', 'ALABAMA', 'ALABAMA', 'DIXIE', 'ALA', 'HEART', 'RC18351', 'OF', '13', 'MAR', 'GOD', 'BLESS', 'AMERICA', '43-128808'] contains ALABAMA\n",
      "Sublist ['FEB MASSACHUSETTS', 'MASSACHUSETTS', '11', '15', 'G2', 'THE SPIRIT OF AMERICA', 'FEB', 'MASSACHUSETTS', 'MASSACHUSETTS', '11', '15', 'G2', 'THE', 'SPIRIT', 'OF', 'AMERICA'] contains MASSACHUSETTS\n",
      "Sublist ['- -', '37 ! 342 ROO', 'ZRZ', 'PENNSYLVANIA', 'DLC', '311', 'BOR.1NG', '001', 'VISITPA.COM', 'I', '1447702', '-', '-', '37 !', '342', 'ROO', 'ZRZ', 'PENNSYLVANIA', 'DLC', '311', 'BOR.1NG', '001', 'VISITPA.COM', 'I', '1447702'] contains PENNSYLVANIA\n",
      "Sublist ['AUG', 'CALIFORNIA', 'I 2012', 'E', 'F 2016438', '6TRJ244', 'DMV.CA.GOV', 'AUG', 'CALIFORNIA', 'I', '2012', 'E', 'F', '2016438', '6TRJ244', 'DMV.CA.GOV'] contains CALIFORNIA\n",
      "Sublist ['NEVADA', '2', '4', '5', '6', '4', 'HOME MEANS NEVADA', 'NEVADA', '2', '4', '5', '6', '4', 'HOME', 'MEANS', 'NEVADA'] contains NEVADA\n",
      "Sublist ['OHIO', 'BHL', 'BIRTHPLACE', '6276 OF AVIATION', 'OHIO', 'BHL', 'BIRTHPLACE', '6276', 'OF', 'AVIATION'] contains OHIO\n",
      "Sublist ['ALABAMA', '09 AL 23', '1AOWTAX SAOWTAK', 'WWW.ALABAMA.TRAVEL', '- -', '-', 'ALABAMA', '09', 'AL', '23', '1AOWTAX', 'SAOWTAK', 'WWW.ALABAMA.TRAVEL', '-', '-', '-'] contains ALABAMA\n",
      "['ARIZONA', 'TEXAS', 'TEXAS', 'ALABAMA', 'MASSACHUSETTS', 'PENNSYLVANIA', 'CALIFORNIA', 'NEVADA', 'OHIO', 'ALABAMA']\n"
     ]
    }
   ],
   "source": [
    "state_names = [\"Alaska\", \"Alabama\", \"Arkansas\", \"American Samoa\", \"Arizona\", \"California\", \"Colorado\", \"Connecticut\", \"District \", \"of Columbia\", \"Delaware\", \"Florida\", \"Georgia\", \"Guam\", \"Hawaii\", \"Iowa\", \"Idaho\", \"Illinois\", \"Indiana\", \"Kansas\", \"Kentucky\", \"Louisiana\", \"Massachusetts\", \"Maryland\", \"Maine\", \"Michigan\", \"Minnesota\", \"Missouri\", \"Mississippi\", \"Montana\", \"North Carolina\", \"North Dakota\", \"Nebraska\", \"New Hampshire\", \"New Jersey\", \"New Mexico\", \"Nevada\", \"New York\", \"Ohio\", \"Oklahoma\", \"Oregon\", \"Pennsylvania\", \"Puerto Rico\", \"Rhode Island\", \"South Carolina\", \"South Dakota\", \"Tennessee\", \"Texas\", \"Utah\", \"Virginia\", \"Virgin Islands\", \"Vermont\", \"Washington\", \"Wisconsin\", \"West Virginia\", \"Wyoming\"]\n",
    "state_list = []\n",
    "for i in state_names:\n",
    "    state_list.append(i.upper())\n",
    "\n",
    "license_plates = []\n",
    "for i in licenses:\n",
    "    for j in range(len(i)):\n",
    "        i[j] = i[j].upper()\n",
    "        license_plates.append(i[j])\n",
    "\n",
    "state = []\n",
    "for i in licenses:\n",
    "    for j in state_list:\n",
    "        if j in i:\n",
    "            print(f\"Sublist {i} contains {j}\")\n",
    "            state.append(j)\n",
    "            break\n"
   ]
  },
  {
   "cell_type": "code",
   "execution_count": 97,
   "metadata": {},
   "outputs": [],
   "source": [
    "images_dict = {\"Images\":images[0:10],\n",
    "               \"State\": state}\n",
    "licenses_df = pd.DataFrame(images_dict)\n",
    "\n",
    "licenses_df.to_csv('image_state.csv', index=False)"
   ]
  },
  {
   "cell_type": "code",
   "execution_count": 98,
   "metadata": {},
   "outputs": [
    {
     "name": "stdout",
     "output_type": "stream",
     "text": [
      "File /workspaces/boto3_lab/AI API/image_state.csv uploaded to bucket techcatalyst-public with key aryan/image_state.csv.\n"
     ]
    }
   ],
   "source": [
    "# Define the file to upload and the target bucket and key\n",
    "filename = '/workspaces/boto3_lab/AI API/image_state.csv'  # Replace with your file path\n",
    "bucket_name = 'techcatalyst-public'  # Replace with your bucket name\n",
    "key = 'aryan/image_state.csv'  # Replace with your file key in S3\n",
    "\n",
    "# Upload the file to S3\n",
    "s3.upload_file(filename, bucket_name, key)\n",
    "\n",
    "# Print a confirmation message\n",
    "print(f'File {filename} uploaded to bucket {bucket_name} with key {key}.')"
   ]
  },
  {
   "cell_type": "code",
   "execution_count": 99,
   "metadata": {},
   "outputs": [
    {
     "data": {
      "image/png": "[encoded data removed]",
      "text/plain": [
       "<Figure size 1000x600 with 1 Axes>"
      ]
     },
     "metadata": {},
     "output_type": "display_data"
    }
   ],
   "source": [
    "import matplotlib.pyplot as plt\n",
    "\n",
    "sentiment_counts = licenses_df['State'].value_counts()\n",
    "\n",
    "plt.figure(figsize=(10, 6))\n",
    "sentiment_counts.plot(kind='bar')\n",
    "plt.title('Sentiment Analysis Counts')\n",
    "plt.xlabel('Sentiment')\n",
    "plt.ylabel('Count')\n",
    "plt.show()"
   ]
  }
 ],
 "metadata": {
  "kernelspec": {
   "display_name": "Python 3",
   "language": "python",
   "name": "python3"
  },
  "language_info": {
   "codemirror_mode": {
    "name": "ipython",
    "version": 3
   },
   "file_extension": ".py",
   "mimetype": "text/x-python",
   "name": "python",
   "nbconvert_exporter": "python",
   "pygments_lexer": "ipython3",
   "version": "3.10.13"
  }
 },
 "nbformat": 4,
 "nbformat_minor": 2
}
